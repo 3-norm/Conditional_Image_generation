{
 "cells": [
  {
   "cell_type": "code",
   "execution_count": 1,
   "id": "91f82999-5905-4576-b57e-f0b15a9c0e80",
   "metadata": {},
   "outputs": [],
   "source": [
    "import os\n",
    "import math\n",
    "import torch\n",
    "import numpy as np\n",
    "from tqdm import tqdm\n",
    "import torchvision\n",
    "import torch.nn as nn\n",
    "import torch.nn.functional as F\n",
    "import torch.optim as optim\n",
    "from torch.utils.data import DataLoader\n",
    "from torchvision import transforms\n",
    "import functools\n",
    "import random\n",
    "import time\n",
    "from datetime import timedelta\n",
    "\n",
    "import utils\n",
    "import train_fns\n",
    "from collections import Counter\n",
    "from torch.optim.lr_scheduler import ReduceLROnPlateau"
   ]
  },
  {
   "cell_type": "code",
   "execution_count": 2,
   "id": "5da5e0fb-5f64-4a47-9260-1f196c6621f3",
   "metadata": {},
   "outputs": [],
   "source": [
    "def set_random_seed(seed):\n",
    "    random.seed(seed)\n",
    "    np.random.seed(seed)\n",
    "    torch.manual_seed(seed)\n",
    "    if torch.cuda.is_available():\n",
    "        torch.cuda.manual_seed(seed)\n",
    "        torch.cuda.manual_seed_all(seed)\n",
    "    torch.backends.cudnn.deterministic = True\n",
    "    torch.backends.cudnn.benchmark = False\n",
    "\n",
    "set_random_seed(112)"
   ]
  },
  {
   "cell_type": "code",
   "execution_count": null,
   "id": "0d41a788-7e06-4b02-8007-a6d3a0a23022",
   "metadata": {},
   "outputs": [],
   "source": [
    "norm_mean = [0.5,0.5,0.5]\n",
    "norm_std = [0.5,0.5,0.5]\n",
    "image_size = 32,32\n",
    "\n",
    "train_transform = transforms.Compose([\n",
    "    transforms.RandomHorizontalFlip(),\n",
    "    transforms.ColorJitter(brightness=0.2, contrast=0.2, saturation=0.2, hue=0.1),\n",
    "    transforms.ToTensor(),\n",
    "    transforms.Normalize(norm_mean, norm_std)\n",
    "])\n",
    "\n",
    "\n",
    "train_dataset = torchvision.datasets.CIFAR100(\n",
    "    root=\"./data\",  # 데이터 저장 경로\n",
    "    train=True,     # 학습용 데이터셋\n",
    "    download=True,  # 데이터셋 다운로드\n",
    "    transform=train_transform\n",
    ")\n",
    "\n",
    "\n",
    "train_loader = DataLoader(train_dataset, batch_size=256,shuffle=True,\n",
    "                         num_workers=8, pin_memory=True, drop_last = True)"
   ]
  },
  {
   "cell_type": "code",
   "execution_count": null,
   "id": "0a4ca354-188b-4516-b476-88ec19ffa306",
   "metadata": {},
   "outputs": [],
   "source": [
    "superclass_mapping = {\n",
    "      4: 0, 30: 0, 55: 0, 72: 0, 95: 0,           # aquatic mammals\n",
    "      1: 1, 32: 1, 67: 1, 73: 1, 91: 1,           # fish\n",
    "      54: 2, 62: 2, 70: 2, 82: 2, 92: 2,          # flowers\n",
    "      9: 3, 10: 3, 16: 3, 28: 3, 61: 3,           # food containers\n",
    "      0: 4, 51: 4, 53: 4, 57: 4, 83: 4,           # fruit and vegetables\n",
    "      22: 5, 39: 5, 40: 5, 86: 5, 87: 5,          # household electrical devices\n",
    "      5: 6, 20: 6, 25: 6, 84: 6, 94: 6,           # household furniture\n",
    "      6: 7, 7: 7, 14: 7, 18: 7, 24: 7,            # insects\n",
    "      3: 8, 42: 8, 43: 8, 88: 8, 97: 8,           # large carnivores \n",
    "      12: 9, 17: 9, 37: 9, 68: 9, 76: 9,          # large man-made outdoor things\n",
    "      23: 10, 33: 10, 49: 10, 60: 10, 71: 10,     # large natural outdoor scenes\n",
    "      15: 11, 19: 11, 21: 11, 31: 11, 38: 11,     # large omnivores and herbivores\n",
    "      34: 12, 63: 12, 64: 12, 66: 12, 75: 12,     # medium-sized mammals\n",
    "      26: 13, 45: 13, 77: 13, 79: 13, 99: 13,     # non-insect invertebrates\n",
    "      2: 14, 11: 14, 35: 14, 46: 14, 98: 14,      # people\n",
    "      27: 15, 29: 15, 44: 15, 78: 15, 93: 15,     # reptiles\n",
    "      36: 16, 50: 16, 65: 16, 74: 16, 80: 16,     # small mammals\n",
    "      47: 17, 52: 17, 56: 17, 59: 17, 96: 17,     # trees \n",
    "      8: 18, 13: 18, 48: 18, 58: 18, 90: 18,      # vehicles 1\n",
    "      41: 19, 69: 19, 81: 19, 85: 19, 89: 19      # vehicles 2\n",
    "      }\n",
    "\n",
    "train_loader.dataset.targets = [superclass_mapping[label] for label in train_loader.dataset.targets]\n",
    "print(set(train_loader.dataset.targets))\n",
    "label_counts = Counter(train_loader.dataset.targets)"
   ]
  },
  {
   "cell_type": "code",
   "execution_count": null,
   "id": "7505fa1b-dd9f-49e2-965b-12bfe8f3484e",
   "metadata": {},
   "outputs": [],
   "source": [
    "print(\"Superclass label counts:\")\n",
    "for label, count in sorted(label_counts.items()):\n",
    "    print(f\"Label {label}: {count} samples\")"
   ]
  },
  {
   "cell_type": "code",
   "execution_count": 7,
   "id": "4575601e-b1cf-4023-8b3c-98113af26d75",
   "metadata": {},
   "outputs": [],
   "source": [
    "config = {'load_in_mem': False,  'dict_decay': 0.9, \n",
    "          'commitment': 10.0, 'discrete_layer': '0123', 'dict_size': 6,\n",
    "          'model': 'BigGAN', 'G_param': 'SN', 'D_param': 'SN', 'G_ch': 64,\n",
    "          'D_ch': 64, 'G_depth': 1, 'D_depth': 1, 'D_wide': True, \n",
    "          'G_shared': False, 'shared_dim': 0, 'dim_z': 128, 'z_var': 1.0, \n",
    "          'hier': False, 'cross_replica': False, 'mybn': False, \n",
    "          'G_nl': 'relu', 'D_nl': 'relu', 'G_attn': '0', 'D_attn': '0',\n",
    "          'norm_style': 'bn', 'G_init': 'N02', 'D_init': 'N02', \n",
    "          'skip_init': False, 'G_lr': 0.0002, 'D_lr': 0.0001, 'G_B1': 0.0,\n",
    "          'D_B1': 0.0, 'G_B2': 0.999, 'D_B2': 0.999, 'batch_size': 64, \n",
    "          'G_batch_size': 0, 'num_G_accumulations': 1, 'num_D_steps': 4, \n",
    "          'num_D_accumulations': 1, 'split_D': False, 'num_epochs': 700, \n",
    "          'parallel': False, 'D_mixed_precision': False, 'G_mixed_precision': False,\n",
    "          'accumulate_stats': False, 'num_standing_accumulations': 16,\n",
    "          'G_eval_mode': False, 'save_every': 1000, 'num_save_copies': 2, \n",
    "          'num_best_copies': 5, 'base_root': '', 'data_root': 'data', 'weights_root': 'weights',\n",
    "          'samples_root': 'samples', 'name_suffix': 'quant', 'experiment_name': '',\n",
    "          'ema': True, 'ema_decay': 0.9999, 'use_ema': True, 'ema_start': 1000, \n",
    "          'adam_eps': 1e-08, 'BN_eps': 1e-05, 'SN_eps': 1e-08, 'num_G_SVs': 1, \n",
    "          'num_D_SVs': 1, 'num_G_SV_itrs': 1, 'num_D_SV_itrs': 1, 'G_ortho': 0.0,\n",
    "          'D_ortho': 0.0, 'toggle_grads': True, 'load_weights': '', 'resume': False}\n",
    "\n",
    "config['resolution'] = 32\n",
    "config['n_classes'] = 20\n",
    "config['G_activation'] = nn.ReLU(inplace=False)\n",
    "config['D_activation'] = nn.ReLU(inplace=False)"
   ]
  },
  {
   "cell_type": "code",
   "execution_count": 6,
   "id": "abbdbbb7-f44b-41e0-b62a-06199ed0bdf5",
   "metadata": {},
   "outputs": [],
   "source": [
    "%load_ext autoreload\n",
    "%autoreload 2"
   ]
  },
  {
   "cell_type": "code",
   "execution_count": 8,
   "id": "4c935699-7f65-412d-84c6-85c1d1278d4b",
   "metadata": {},
   "outputs": [],
   "source": [
    "device = \"cuda\" if torch.cuda.is_available() else \"cpu\""
   ]
  },
  {
   "cell_type": "code",
   "execution_count": 9,
   "id": "51ca4859-4813-4825-889d-3609c1e0207f",
   "metadata": {},
   "outputs": [],
   "source": [
    "model = __import__(config['model'])"
   ]
  },
  {
   "cell_type": "code",
   "execution_count": null,
   "id": "52c3be2d-49bd-40f2-aa55-99c9b0433634",
   "metadata": {},
   "outputs": [],
   "source": [
    "G = model.Generator(**config).to(device)\n",
    "D = model.Discriminator(**config).to(device)\n",
    "  \n",
    "\n",
    "G_ema = model.Generator(**{**config, 'skip_init':True, \n",
    "                        'no_optim': True}).to(device)\n",
    "\n",
    "ema = utils.ema(G, G_ema, config['ema_decay'], config['ema_start'])"
   ]
  },
  {
   "cell_type": "code",
   "execution_count": null,
   "id": "97dac044-276e-4029-843e-d87d8c73adb6",
   "metadata": {},
   "outputs": [],
   "source": [
    "GD = model.G_D(G, D)\n",
    "print(G)\n",
    "print(D)"
   ]
  },
  {
   "cell_type": "code",
   "execution_count": 12,
   "id": "715c9948-a106-4edf-84b1-42bd9834b38f",
   "metadata": {},
   "outputs": [],
   "source": [
    "state_dict = {'itr': 0, 'epoch': 0, 'save_num': 0, 'save_best_num': 0,'config': config}"
   ]
  },
  {
   "cell_type": "code",
   "execution_count": 13,
   "id": "3389e040-aa90-49e6-be38-1306ace25a01",
   "metadata": {},
   "outputs": [],
   "source": [
    "G_batch_size = max(config['G_batch_size'], config['batch_size'])\n",
    "z_, y_ = utils.prepare_z_y(G_batch_size, G.dim_z, config['n_classes'],\n",
    "                             device=device, fp16=False)\n",
    "\n",
    "fixed_z, fixed_y = utils.prepare_z_y(G_batch_size, G.dim_z,\n",
    "                                       config['n_classes'], device=device,\n",
    "                                       fp16=False)  \n",
    "fixed_z.sample_()\n",
    "fixed_y.sample_()"
   ]
  },
  {
   "cell_type": "code",
   "execution_count": 14,
   "id": "15cfaafa-2f76-402a-9366-3ccd043a8775",
   "metadata": {},
   "outputs": [],
   "source": [
    "experiment_name = 'BigGAN'"
   ]
  },
  {
   "cell_type": "code",
   "execution_count": 15,
   "id": "7927d6c8-cc93-4bea-8491-273f2af41dc3",
   "metadata": {},
   "outputs": [],
   "source": [
    "train = train_fns.GAN_training_function(G, D, GD, z_, y_, \n",
    "                                            ema, state_dict, config)"
   ]
  },
  {
   "cell_type": "code",
   "execution_count": null,
   "id": "bcb5a838-4d64-49e5-83b2-f63db8a43648",
   "metadata": {
    "scrolled": true
   },
   "outputs": [],
   "source": [
    "start_time = time.time()\n",
    "\n",
    "for epoch in range(state_dict['epoch'], config['num_epochs']):\n",
    "\n",
    "\n",
    "    progress_bar = tqdm(train_loader, desc=f\"Epoch {epoch + 1}/{config['num_epochs']}\")\n",
    "\n",
    "    for i, (x, y) in enumerate(progress_bar):\n",
    "        # Increment the iteration counter\n",
    "        state_dict['itr'] += 1\n",
    "\n",
    "        # Generator와 Discriminator를 training 모드로 설정\n",
    "        G.train()\n",
    "        D.train()\n",
    "\n",
    "        G_ema.train()\n",
    "\n",
    "        x, y = x.to(device), y.to(device)\n",
    "\n",
    "        # Train 함수 실행\n",
    "        metrics = train(x, y)\n",
    "\n",
    "       \n",
    "        # Progress bar에 현재 손실 업데이트\n",
    "        progress_bar.set_postfix({\n",
    "            \"D_loss_real\": metrics['D_loss_real'],\n",
    "            \"D_loss_fake\": metrics['D_loss_fake'],\n",
    "            \"G_loss\": metrics['G_loss']\n",
    "        })\n",
    "\n",
    "        # 모델 저장\n",
    "        if not (state_dict['itr'] % config['save_every']):\n",
    "            if config['G_eval_mode']:\n",
    "                print('Switchin G to eval mode...')\n",
    "                G.eval()\n",
    "            train_fns.save_and_sample(G, D, G_ema, z_, y_, fixed_z, fixed_y, \n",
    "                                      state_dict, config, experiment_name)\n",
    "\n",
    "        \n",
    "    # Epoch 증가\n",
    "    state_dict['epoch'] += 1\n",
    "    \n",
    "end_time = time.time()\n",
    "elapsed_time = timedelta(seconds=end_time - start_time)\n",
    "\n",
    "# Print the training time\n",
    "print(f\"Total training time: {elapsed_time}\")\n"
   ]
  },
  {
   "cell_type": "markdown",
   "id": "3db54f6e-4fe4-4730-b559-6f082b83b9fb",
   "metadata": {},
   "source": [
    "# Score Metrics"
   ]
  },
  {
   "cell_type": "code",
   "execution_count": 18,
   "id": "400d4522-5df9-48b2-a2cb-a9fb951a0184",
   "metadata": {},
   "outputs": [],
   "source": [
    "import torchvision.transforms as transforms\n",
    "import torchvision\n",
    "from torch.utils.data import DataLoader\n",
    "import numpy as np\n",
    "import inceptionID\n",
    "import torch"
   ]
  },
  {
   "cell_type": "code",
   "execution_count": null,
   "id": "5fa562b4-38bb-45ce-aa47-5725562ee92b",
   "metadata": {},
   "outputs": [],
   "source": [
    "norm_mean = [0.5,0.5,0.5]\n",
    "norm_std = [0.5,0.5,0.5]\n",
    "image_size = 32,32\n",
    "\n",
    "\n",
    "train_transform = []\n",
    "train_transform = transforms.Compose(train_transform + [\n",
    "                     transforms.ToTensor(),\n",
    "                        transforms.Resize((299, 299)),\n",
    "                     transforms.Normalize(norm_mean, norm_std)])\n",
    "\n",
    "\n",
    "train_dataset = torchvision.datasets.CIFAR100(\n",
    "    root=\"./data\",  # 데이터 저장 경로\n",
    "    train=True,     # 학습용 데이터셋\n",
    "    download=True,  # 데이터셋 다운로드\n",
    "    transform=train_transform\n",
    ")\n",
    "\n",
    "train_loader = DataLoader(train_dataset, batch_size=64,\n",
    "                              shuffle=True)\n",
    "net = inceptionID.load_inception_net()"
   ]
  },
  {
   "cell_type": "code",
   "execution_count": null,
   "id": "013384ff-b820-415c-896e-87f5ecd8702b",
   "metadata": {},
   "outputs": [],
   "source": [
    "pool, logits, labels = inceptionID.get_net_output(device=\"cuda:0\", train_loader=train_loader, net=net)\n",
    "mu_data, sigma_data = np.mean(pool, axis=0), np.cov(pool, rowvar=False)"
   ]
  },
  {
   "cell_type": "code",
   "execution_count": null,
   "id": "c50d1cb4-c52b-4a7b-8653-e235148c446d",
   "metadata": {},
   "outputs": [],
   "source": [
    "utils.load_weights(G if not (config['use_ema']) else None, None, state_dict, \n",
    "                     config['weights_root'], experiment_name, config['load_weights'],\n",
    "                     G if config['ema'] and config['use_ema'] else None,\n",
    "                     strict=False, load_optim=False)"
   ]
  },
  {
   "cell_type": "code",
   "execution_count": 22,
   "id": "5ade9413-3a37-46f7-8888-d798a38ba186",
   "metadata": {},
   "outputs": [],
   "source": [
    "G_batch_size = 200 \n",
    "z_, y_ = utils.prepare_z_y(G_batch_size, G.dim_z, config['n_classes'],\n",
    "                             device=device, fp16= False, \n",
    "                             z_var=config['z_var'])\n",
    "y_ = [ i for i in range(0,20)] * 10\n",
    "y_ = torch.tensor(y_, dtype=torch.long).cuda()\n",
    "sample = functools.partial(utils.sample, G=G, z_=z_, y_=y_, config=config)"
   ]
  },
  {
   "cell_type": "code",
   "execution_count": 23,
   "id": "f1d3e193-8c8c-48af-804f-62e91ce80a1e",
   "metadata": {},
   "outputs": [],
   "source": [
    "g_pool, g_logits, g_labels = inceptionID.accumulate_inception_activations(sample, net, 50000)\n",
    "\n",
    "g_pool = g_pool[:50000]\n",
    "g_logits= g_logits[:50000]\n",
    "g_labels = g_labels[:50000]"
   ]
  },
  {
   "cell_type": "markdown",
   "id": "78a7f9da-428f-4099-8a2c-81e7e9f8d359",
   "metadata": {},
   "source": [
    "## FID"
   ]
  },
  {
   "cell_type": "code",
   "execution_count": 24,
   "id": "8403faa5-db59-4619-afd7-c497e5fd5664",
   "metadata": {},
   "outputs": [],
   "source": [
    "mu, sigma = np.mean(g_pool.cpu().numpy(), axis=0), np.cov(g_pool.cpu().numpy(), rowvar=False)"
   ]
  },
  {
   "cell_type": "code",
   "execution_count": null,
   "id": "21dab3b7-8fb6-40f7-becf-4136f1ae063b",
   "metadata": {},
   "outputs": [],
   "source": [
    "print(\"FID : \", inceptionID.calculate_fid(mu_data, sigma_data, mu, sigma))"
   ]
  },
  {
   "cell_type": "markdown",
   "id": "5085bd06-8047-416a-b4d1-b541a77e1007",
   "metadata": {},
   "source": [
    "## Inception Score"
   ]
  },
  {
   "cell_type": "code",
   "execution_count": null,
   "id": "b09bb842-67ca-4d10-afc7-1a48e40873d6",
   "metadata": {},
   "outputs": [],
   "source": [
    "m, cov = inceptionID.calculate_inception_score(g_logits.cpu().numpy(), 10)\n",
    "print(\"mean : \", m)\n",
    "print(\"cov : \", cov)"
   ]
  },
  {
   "cell_type": "markdown",
   "id": "dc567113-23ab-4b18-afd8-9a0e28eceff0",
   "metadata": {},
   "source": [
    "## Intra-FID"
   ]
  },
  {
   "cell_type": "code",
   "execution_count": 27,
   "id": "a6975c9c-c68c-45ab-8c49-6db10fd8e16d",
   "metadata": {},
   "outputs": [],
   "source": [
    "intra_fids_mean, intra_fids = inceptionID.calculate_intra_fid(pool, logits, labels, g_pool, g_logits, g_labels, chage_superclass=False)"
   ]
  },
  {
   "cell_type": "code",
   "execution_count": null,
   "id": "3e3b2a00-70d2-4674-a3b6-7407ac3d6e8b",
   "metadata": {},
   "outputs": [],
   "source": [
    "print(\"intra-FID : \", intra_fids_mean)"
   ]
  },
  {
   "cell_type": "code",
   "execution_count": null,
   "id": "7f20df4e-1fc9-4497-b0c7-256d6d97e208",
   "metadata": {},
   "outputs": [],
   "source": [
    "for i in range(len(intra_fids)):\n",
    "    print(f\"superclass intra-score {i}: {intra_fids[i]}\")"
   ]
  },
  {
   "cell_type": "code",
   "execution_count": null,
   "id": "428cb62d-1ecb-467e-ae19-06250c06f940",
   "metadata": {},
   "outputs": [],
   "source": []
  },
  {
   "cell_type": "code",
   "execution_count": null,
   "id": "557d9982-3492-433d-81c9-2d1dae14ad5b",
   "metadata": {},
   "outputs": [],
   "source": []
  }
 ],
 "metadata": {
  "kernelspec": {
   "display_name": "Python 3 (ipykernel)",
   "language": "python",
   "name": "python3"
  },
  "language_info": {
   "codemirror_mode": {
    "name": "ipython",
    "version": 3
   },
   "file_extension": ".py",
   "mimetype": "text/x-python",
   "name": "python",
   "nbconvert_exporter": "python",
   "pygments_lexer": "ipython3",
   "version": "3.11.7"
  }
 },
 "nbformat": 4,
 "nbformat_minor": 5
}
